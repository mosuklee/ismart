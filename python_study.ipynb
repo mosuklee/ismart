{
 "cells": [
  {
   "cell_type": "markdown",
   "metadata": {},
   "source": [
    "# Python 기초문법 정리"
   ]
  },
  {
   "cell_type": "markdown",
   "metadata": {},
   "source": [
    "### 파이선을 프로그램하기 위한 기초문법 정리\n",
    "1. List 만들기\n",
    "2. Dataframe 만들기\n",
    "3. Dataframe Column이름 바꾸기\n",
    "4. Dataframe의 ROW에 일정한 값 곱하거나 더하기\n",
    "5. Dataframe ROW 삭제하기\n",
    "6. 딕션어리 만들기\n",
    "7. Dataframe을 CSV로 저장하기\n",
    "8. 반복문\n",
    "9. 조건문\n",
    "10. 딕션어리를 이용하여 리스트 만들고 Dataframe으로 변경하기"
   ]
  },
  {
   "cell_type": "markdown",
   "metadata": {},
   "source": [
    "## 1. List 만들기"
   ]
  },
  {
   "cell_type": "code",
   "execution_count": 1,
   "metadata": {},
   "outputs": [],
   "source": [
    "import pandas as pd"
   ]
  },
  {
   "cell_type": "code",
   "execution_count": 2,
   "metadata": {},
   "outputs": [],
   "source": [
    "data = [[1,2,3,4],[5,6,7,8]]"
   ]
  },
  {
   "cell_type": "code",
   "execution_count": 3,
   "metadata": {},
   "outputs": [
    {
     "name": "stdout",
     "output_type": "stream",
     "text": [
      "[[1, 2, 3, 4], [5, 6, 7, 8]]\n",
      "[1, 2, 3, 4]\n",
      "[5, 6, 7, 8]\n",
      "2\n",
      "7\n"
     ]
    }
   ],
   "source": [
    "print(data)\n",
    "print(data[0])\n",
    "print(data[1])\n",
    "print(data[0][1])  #리스트를 행열로 지정하여 추출할 때 사용한다.\n",
    "print(data[1][2])  "
   ]
  },
  {
   "cell_type": "markdown",
   "metadata": {},
   "source": [
    "## 2. Dataframe 만들기"
   ]
  },
  {
   "cell_type": "code",
   "execution_count": 4,
   "metadata": {},
   "outputs": [],
   "source": [
    "df = pd.DataFrame(data)"
   ]
  },
  {
   "cell_type": "code",
   "execution_count": 5,
   "metadata": {},
   "outputs": [
    {
     "name": "stdout",
     "output_type": "stream",
     "text": [
      "   0  1  2  3\n",
      "0  1  2  3  4\n",
      "1  5  6  7  8\n"
     ]
    }
   ],
   "source": [
    "print(df)"
   ]
  },
  {
   "cell_type": "code",
   "execution_count": 6,
   "metadata": {},
   "outputs": [
    {
     "name": "stdout",
     "output_type": "stream",
     "text": [
      "0    2\n",
      "1    6\n",
      "Name: 1, dtype: int64\n",
      "2\n",
      "8\n"
     ]
    }
   ],
   "source": [
    "print(df[1])\n",
    "print(df[1][0])\n",
    "print(df[3][1]) # Dataframe을 행열로 지정하여 추출항때 사용한다."
   ]
  },
  {
   "cell_type": "markdown",
   "metadata": {},
   "source": [
    "## 3. Dataframe Column 이름 바꾸기"
   ]
  },
  {
   "cell_type": "code",
   "execution_count": 7,
   "metadata": {},
   "outputs": [],
   "source": [
    "df.columns=[\"A\",\"B\",\"C\",\"D\"]"
   ]
  },
  {
   "cell_type": "code",
   "execution_count": 8,
   "metadata": {},
   "outputs": [
    {
     "name": "stdout",
     "output_type": "stream",
     "text": [
      "   A  B  C  D\n",
      "0  1  2  3  4\n",
      "1  5  6  7  8\n"
     ]
    }
   ],
   "source": [
    "print(df)"
   ]
  },
  {
   "cell_type": "markdown",
   "metadata": {},
   "source": [
    "## 4. Dataframe의 Row에 일정한 값 곱하거나 더하기"
   ]
  },
  {
   "cell_type": "code",
   "execution_count": 9,
   "metadata": {},
   "outputs": [
    {
     "name": "stdout",
     "output_type": "stream",
     "text": [
      "    A  B  C  D\n",
      "0   2  4  3  4\n",
      "1  10  8  7  8\n"
     ]
    }
   ],
   "source": [
    "df[\"A\"] = df[\"A\"] * 2\n",
    "df[\"B\"] = df[\"B\"] + 2\n",
    "print(df)"
   ]
  },
  {
   "cell_type": "markdown",
   "metadata": {},
   "source": [
    "## 5. Dataframe ROW 삭제하기"
   ]
  },
  {
   "cell_type": "code",
   "execution_count": 10,
   "metadata": {},
   "outputs": [],
   "source": [
    "df=df.drop(df.index[0]) # 첫번째 Row 0번부터"
   ]
  },
  {
   "cell_type": "code",
   "execution_count": 11,
   "metadata": {},
   "outputs": [
    {
     "name": "stdout",
     "output_type": "stream",
     "text": [
      "    A  B  C  D\n",
      "1  10  8  7  8\n"
     ]
    }
   ],
   "source": [
    "print(df)"
   ]
  },
  {
   "cell_type": "markdown",
   "metadata": {},
   "source": [
    "## 6. 딕션어리 만들기"
   ]
  },
  {
   "cell_type": "code",
   "execution_count": 12,
   "metadata": {},
   "outputs": [],
   "source": [
    "d={\"A\":\"1\",\"B\":\"2\",\"C\":\"3\"}"
   ]
  },
  {
   "cell_type": "code",
   "execution_count": 13,
   "metadata": {},
   "outputs": [
    {
     "name": "stdout",
     "output_type": "stream",
     "text": [
      "1\n",
      "2\n"
     ]
    }
   ],
   "source": [
    "print(d[\"A\"])\n",
    "print(d[\"B\"])"
   ]
  },
  {
   "cell_type": "markdown",
   "metadata": {},
   "source": [
    "## 7. CSV 파일 저장하기"
   ]
  },
  {
   "cell_type": "code",
   "execution_count": 14,
   "metadata": {},
   "outputs": [],
   "source": [
    "user_id = \"lee439\"\n",
    "outputfile ='%s_userinfo_ismart.csv'%(user_id)  # %s에 user_id를 삽입하여 파일명을 만든다 ( %(user_id) )\n",
    "df.to_csv(outputfile, encoding='UTF-8', index=False)"
   ]
  },
  {
   "cell_type": "markdown",
   "metadata": {},
   "source": [
    "## 8. 반복문 (for)"
   ]
  },
  {
   "cell_type": "code",
   "execution_count": 15,
   "metadata": {},
   "outputs": [
    {
     "name": "stdout",
     "output_type": "stream",
     "text": [
      "1\n",
      "2\n"
     ]
    }
   ],
   "source": [
    "for i in range(1,3) :   # 파이선은 0부터 시작하므로 1부터 세번째까지 이므로 0,1 ,2 이다 따라서 1부터 2까지 나타낸다\n",
    "    print(i)"
   ]
  },
  {
   "cell_type": "code",
   "execution_count": 16,
   "metadata": {},
   "outputs": [
    {
     "name": "stdout",
     "output_type": "stream",
     "text": [
      "A\n",
      "B\n",
      "C\n"
     ]
    }
   ],
   "source": [
    "a = [\"A\",\"B\",\"C\"]\n",
    "for i in a : # 문자열을 순차적으로 적용할 경우에 사용한다.\n",
    "    print(i)"
   ]
  },
  {
   "cell_type": "markdown",
   "metadata": {},
   "source": [
    "## 9. 조건문 "
   ]
  },
  {
   "cell_type": "code",
   "execution_count": 17,
   "metadata": {},
   "outputs": [
    {
     "name": "stdout",
     "output_type": "stream",
     "text": [
      "1입니다.\n"
     ]
    }
   ],
   "source": [
    "i = 1\n",
    "if i == 1 :\n",
    "    print(\"1입니다.\")\n",
    "else :\n",
    "    print(\"1이 아닙니다.\")"
   ]
  },
  {
   "cell_type": "markdown",
   "metadata": {},
   "source": [
    "## 10. 딕션어리를 이용하여 리스트 만들고 Dataframe으로 변경하기"
   ]
  },
  {
   "cell_type": "code",
   "execution_count": 48,
   "metadata": {},
   "outputs": [
    {
     "name": "stdout",
     "output_type": "stream",
     "text": [
      "   강아지  고양이  곰돌이  너구리\n",
      "0  100  200  400  300\n",
      "1  101  201  401  301\n"
     ]
    }
   ],
   "source": [
    "# 리스트 및 딕션어리를 초기화 한다.\n",
    "l=[]\n",
    "d={}\n",
    "\n",
    "# 임의의 데이터를 List로 만든다.\n",
    "a = [[100,200,300,400],[101,201,301,401]]\n",
    "\n",
    "# 딕션어리를 이용하여 각각의 값을 입력한다.\n",
    "d[\"강아지\"] = a[0][0]\n",
    "d[\"고양이\"] = a[0][1]\n",
    "d[\"너구리\"] = a[0][2]\n",
    "d[\"곰돌이\"] = a[0][3]\n",
    "\n",
    "# 딕션어리에 있는 자료를 리스트에 입력한다.\n",
    "l.append(d)\n",
    "\n",
    "d={}\n",
    "# 딕션어리를 이용하여 각각의 값을 입력한다.\n",
    "d[\"강아지\"] = a[1][0]\n",
    "d[\"고양이\"] = a[1][1]\n",
    "d[\"너구리\"] = a[1][2]\n",
    "d[\"곰돌이\"] = a[1][3]\n",
    "# 딕션어리에 있는 자료를 리스트에 입력한다.\n",
    "l.append(d)\n",
    "\n",
    "# 리스트를 Dataframe으로 바꾼다.\n",
    "df = pd.DataFrame(l)\n",
    "print(df)"
   ]
  },
  {
   "cell_type": "code",
   "execution_count": null,
   "metadata": {},
   "outputs": [],
   "source": []
  }
 ],
 "metadata": {
  "kernelspec": {
   "display_name": "Python 3",
   "language": "python",
   "name": "python3"
  },
  "language_info": {
   "codemirror_mode": {
    "name": "ipython",
    "version": 3
   },
   "file_extension": ".py",
   "mimetype": "text/x-python",
   "name": "python",
   "nbconvert_exporter": "python",
   "pygments_lexer": "ipython3",
   "version": "3.6.3"
  }
 },
 "nbformat": 4,
 "nbformat_minor": 2
}

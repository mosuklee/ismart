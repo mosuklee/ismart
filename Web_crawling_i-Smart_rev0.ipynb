{
 "cells": [
  {
   "cell_type": "markdown",
   "metadata": {
    "hideCode": false,
    "hidePrompt": false
   },
   "source": [
    "## Web Crawling in i-SMART\n",
    "2018년 02월 14일  \n",
    "mosuklee@gmail.com"
   ]
  },
  {
   "cell_type": "code",
   "execution_count": 2,
   "metadata": {
    "collapsed": true,
    "hideCode": false,
    "hidePrompt": false
   },
   "outputs": [],
   "source": [
    "from selenium import webdriver\n",
    "from bs4 import BeautifulSoup\n",
    "import pandas as pd\n",
    "import re\n",
    "user_id = \"0140398763\"\n",
    "user_pw = \"skt0119\"\n",
    "\n",
    "#15분 DATA 분석기간\n",
    "search_year = 2017\n",
    "start_month = 1\n",
    "end_month = 3"
   ]
  },
  {
   "cell_type": "code",
   "execution_count": 3,
   "metadata": {
    "collapsed": true,
    "hideCode": false,
    "hidePrompt": false
   },
   "outputs": [],
   "source": [
    "# login 하고자 하는 login page를 url에 저장한다. 네이버는 login page가 https://nid.naver.com/nidlogin.login에 있다.\n",
    "url = \"https://pccs.kepco.co.kr/iSmart/jsp/cm/login/main.jsp\""
   ]
  },
  {
   "cell_type": "code",
   "execution_count": 4,
   "metadata": {
    "collapsed": true,
    "hideCode": false,
    "hidePrompt": false
   },
   "outputs": [],
   "source": [
    "#C rome driver를 가상브라우져에 뛰우기 -----(1)\n",
    "browser = webdriver.Chrome (\"C:/webdriver/chromedriver\")\n",
    "\n",
    "# 3초 대기하기 ----(2)\n",
    "browser.implicitly_wait(3)"
   ]
  },
  {
   "cell_type": "code",
   "execution_count": 5,
   "metadata": {
    "collapsed": true,
    "hideCode": false,
    "hidePrompt": false
   },
   "outputs": [],
   "source": [
    "# 로그인하기   ---- (3)\n",
    "browser.get(url)\n",
    "element_id = browser.find_element_by_name('userId')\n",
    "element_id.clear()\n",
    "element_id.send_keys(user_id)\n",
    "element_pw = browser.find_element_by_name('password')\n",
    "element_pw.clear()\n",
    "element_pw.send_keys(user_pw)\n",
    "\n",
    "#버튼누르기\n",
    "#  //*[@id=\"frmNIDLogin\"]/fieldset/input\n",
    "#  //*[@id=\"contents_main\"]/div/form/div[1]/div[2]/input\n",
    "browser.find_element_by_xpath('//*[@id=\"contents_main\"]/div/form/div[1]/div[2]/input').click()\n",
    "\n",
    "#print(browser)\n",
    "\n",
    "#browser.save_screenshot(\"website_A.png\")"
   ]
  },
  {
   "cell_type": "code",
   "execution_count": 6,
   "metadata": {},
   "outputs": [
    {
     "name": "stdout",
     "output_type": "stream",
     "text": [
      "Success Get DataFIle and Save Data\n",
      "[고객정보]\n",
      "계 약 자 : 0140398969(에스케이텔레콤（주）)\n",
      "계약전력: 4750 kW\n",
      "계약종별: 일반용(을)고압A\n",
      "공급방식: 특고압3￠4W22.9Kv-y\n",
      "용    도: 상업용\n",
      "분석년도: 2017\n",
      "시작월 : 1\n",
      "종료월 : 3\n"
     ]
    }
   ],
   "source": [
    "# Naver 페이 들어가기\n",
    "browser.get('https://pccs.kepco.co.kr/iSmart/cm/login/readEquip.do?flag=AB')\n",
    "#browser.get('https://pccs.kepco.co.kr/iSmart/pccs/usage/readTrendMonthList.do?month=12&year=2017')\n",
    "html = browser.page_source\n",
    "soup = BeautifulSoup(html, 'html.parser')\n",
    "#notices = soup.select('p.user_infor > strong')\n",
    "#print(notices)\n",
    "items=soup.find_all(\"td\",class_=\"al_left\")\n",
    "#for item in items:\n",
    "#    print(item)\n",
    "\n",
    "################################################################################################\n",
    "# 딕션어리를 이용하여 리스트로 Add한 다음 dataframe을 만들고 이를 csv로 저장하는 모듈을 만든다 #\n",
    "################################################################################################\n",
    "\n",
    "# 1, 데이터 변수 선언\n",
    "l=[] #리스트 선언\n",
    "d={} #딕션어리 선언\n",
    "\n",
    "# 2 Crawling한 자료를 딕션어리로 만들어 하나씩 저장한다.\n",
    "d[\"계약자\"]=items[10].text.strip()\n",
    "d[\"계약전력\"]=items[0].text.strip()\n",
    "d[\"계약종별\"]=items[1].text.strip()\n",
    "d[\"공급방식\"]=items[2].text.strip()\n",
    "d[\"용    도\"]=items[5].text.strip()\n",
    "d[\"분석년도\"]=search_year\n",
    "d[\"시작월\"]=start_month\n",
    "d[\"종료월\"]=end_month\n",
    "\n",
    "# 3. 딕션어리로 만든 Crawling Data를 List에 Append시킨다.\n",
    "l.append(d) \n",
    "\n",
    "# 4. List로 만든 파일을 Pandas를 사용하여 데이터프레임으로 만든다.\n",
    "df = pd.DataFrame(l) # pandas 사용 l의 데이터프레임화\n",
    "\n",
    "# 5. 데이터프레임으로 만든 파일을 csv파일로 저장한다.\n",
    "outputfile ='%s_userinfo_ismart.csv'%(user_id)\n",
    "df.to_csv(outputfile, encoding='UTF-8', index=False)\n",
    "print(\"Success Get DataFIle and Save Data\")\n",
    "\n",
    "#################################################################################################\n",
    "\n",
    "print(\"[고객정보]\")\n",
    "print(\"계 약 자 :\",items[10].text.strip())\n",
    "print(\"계약전력:\",items[0].text.strip())\n",
    "print(\"계약종별:\",items[1].text.strip())\n",
    "print(\"공급방식:\",items[2].text.strip())\n",
    "print(\"용    도:\",items[5].text.strip())\n",
    "print(\"분석년도:\",search_year)\n",
    "print(\"시작월 :\",start_month)\n",
    "print(\"종료월 :\",end_month)\n"
   ]
  },
  {
   "cell_type": "code",
   "execution_count": 7,
   "metadata": {
    "hideCode": false,
    "hidePrompt": false,
    "scrolled": true
   },
   "outputs": [
    {
     "name": "stdout",
     "output_type": "stream",
     "text": [
      "Success Get DataFIle and Save Data\n"
     ]
    }
   ],
   "source": [
    "browser.get(\"https://pccs.kepco.co.kr/iSmart/pccs/amr/readCharge.do?select=1&sel=2017\")\n",
    "html = browser.page_source\n",
    "data = pd.read_html(html,header=0)\n",
    "df = pd.DataFrame(data[0]) # pandas 사용 l의 데이터프레임화\n",
    "df.columns = [\"year\",\"con_kw\",\"price_kw\",\"use_kw\",\"use_day\",\"pf1\",\"pf2\",\"elec_price\"]\n",
    "head_alias = [\"년도\",\"계약전력(kW)\",\"요금적용전력(kW)\",\"사용전력량(kW)\",\"사용일수\",\"지상(%)\",\"지상(%)\",\"전기요금(원)\"]\n",
    "df=df.drop(df.index[0])  # Dataframe의 첫번째 Row를 삭제한다.\n",
    "outputfile ='%s_elecdata_ismart.csv'%(user_id)\n",
    "df.to_csv(outputfile, encoding='UTF-8', index=False)\n",
    "print(\"Success Get DataFIle and Save Data\")"
   ]
  },
  {
   "cell_type": "code",
   "execution_count": 9,
   "metadata": {},
   "outputs": [
    {
     "name": "stdout",
     "output_type": "stream",
     "text": [
      "Success Get DataFIle and Save Data\n"
     ]
    }
   ],
   "source": [
    "import urllib.parse\n",
    "\n",
    "frames1 = []\n",
    "frame_15=[]\n",
    "month_day = [31,28,31,30,31,30,31,31,30,31,30,31]\n",
    "i = 1\n",
    "#frames1 = pd.DataFrame(frames1)\n",
    "\n",
    "for i in range(start_month,end_month+1):\n",
    "      for search_day in range (1,month_day[i-1]+1):\n",
    "            url = \"https://pccs.kepco.co.kr/iSmart/pccs/usage/getGlobalUsageStats.do\" \n",
    "            values = {\n",
    "                \"day\": str(search_day),\n",
    "                \"diodGubun\": \"0\",\n",
    "                \"diodval\": \"30\",\n",
    "                \"month\": str(i),\n",
    "                \"reviseFlag\": \"30\",\n",
    "                \"searchType_min\": \"15\",\n",
    "                \"year\" : str(search_year)\n",
    "                }\n",
    "            params =  urllib.parse.urlencode(values)\n",
    "            url = url + \"?\"+params\n",
    "            browser.get(url)\n",
    "            html = browser.page_source\n",
    "            #가상브라우져에서 해당  Html파일을 추출한다.\n",
    "            data_15 = pd.read_html(html,header=0)\n",
    "            #표가 반으로 나누어진 것을 합친다.\n",
    "            frame_15 = data_15[3]\n",
    "            frame_15 = frame_15.append(data_15[4])\n",
    "            frame_15['시'] = str(search_year)+\".\"+str(i)+\".\"+str(search_day)+\".\"+frame_15['시']\n",
    "            if i == 1 :\n",
    "                frames1 = frame_15\n",
    "                i=2\n",
    "            else :\n",
    "                frames1=frames1.append(frame_15)\n",
    "        \n",
    "frames1 = pd.DataFrame(frames1)\n",
    "#print(frames1)\n",
    "#df_15 = pd.concat(frames1)\n",
    "df_15 = frames1\n",
    "df_15.columns = [\"hr\",\"use_kwh\",\"max_kw\",\"sisang\",\"jinsang\",\"co2\",\"pf1\",\"pf2\"]\n",
    "#head_alias = [\"년도\",\"계약전력(kW)\",\"요금적용전력(kW)\",\"사용전력량(kW)\",\"사용일수\",\"지상(%)\",\"지상(%)\",\"전기요금(원)\"]\n",
    "df_15 = df_15.drop(df_15.index[0])  # Dataframe의 첫번째 Row를 삭제한다.\n",
    "outputfile ='%s_elecdata_15_ismart.csv'%(user_id)\n",
    "df_15.to_csv(outputfile, encoding='UTF-8', index=False)\n",
    "print(\"Success Get DataFIle and Save Data\")"
   ]
  },
  {
   "cell_type": "code",
   "execution_count": 10,
   "metadata": {
    "collapsed": true,
    "hideCode": false,
    "hidePrompt": false
   },
   "outputs": [],
   "source": [
    "browser.quit()"
   ]
  },
  {
   "cell_type": "code",
   "execution_count": null,
   "metadata": {
    "collapsed": true
   },
   "outputs": [],
   "source": []
  }
 ],
 "metadata": {
  "anaconda-cloud": {},
  "hide_code_all_hidden": false,
  "kernelspec": {
   "display_name": "Python 3",
   "language": "python",
   "name": "python3"
  },
  "language_info": {
   "codemirror_mode": {
    "name": "ipython",
    "version": 3
   },
   "file_extension": ".py",
   "mimetype": "text/x-python",
   "name": "python",
   "nbconvert_exporter": "python",
   "pygments_lexer": "ipython3",
   "version": "3.6.3"
  }
 },
 "nbformat": 4,
 "nbformat_minor": 2
}
